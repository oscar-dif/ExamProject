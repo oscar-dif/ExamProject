{
 "cells": [
  {
   "cell_type": "markdown",
   "metadata": {},
   "source": [
    "# House price prediction\n",
    "\n",
    "The purpose of this project is to predict sales prices for houses using regression techniques\n",
    "\n",
    "## 1. Preprocessing\n",
    "\n",
    "## 1.1. Load data, drop null values and duplicates\n",
    "\n",
    "For now, all the columns with samples smaller than 1460 will be removed. It is possible to transform this values later."
   ]
  },
  {
   "cell_type": "code",
   "execution_count": 122,
   "metadata": {},
   "outputs": [],
   "source": [
    "#import libraries\n",
    "import pandas as pd\n",
    "import seaborn as sns\n",
    "import numpy as np\n",
    "\n",
    "from matplotlib import pyplot as plt\n",
    "from lightgbm import LGBMRegressor\n",
    "from sklearn.ensemble import RandomForestRegressor, GradientBoostingRegressor\n",
    "from sklearn.exceptions import ConvergenceWarning\n",
    "from sklearn.linear_model import LinearRegression, Ridge, Lasso, ElasticNet\n",
    "from sklearn.neighbors import KNeighborsRegressor\n",
    "from sklearn.svm import SVR\n",
    "from sklearn.tree import DecisionTreeRegressor\n",
    "from xgboost import XGBRegressor\n",
    "from sklearn.model_selection import cross_val_score,GridSearchCV\n",
    "from sklearn.model_selection import train_test_split"
   ]
  },
  {
   "cell_type": "code",
   "execution_count": 100,
   "metadata": {},
   "outputs": [
    {
     "name": "stdout",
     "output_type": "stream",
     "text": [
      "<class 'pandas.core.frame.DataFrame'>\n",
      "RangeIndex: 1460 entries, 0 to 1459\n",
      "Data columns (total 81 columns):\n",
      " #   Column         Non-Null Count  Dtype  \n",
      "---  ------         --------------  -----  \n",
      " 0   id             1460 non-null   int64  \n",
      " 1   mssubclass     1460 non-null   int64  \n",
      " 2   mszoning       1460 non-null   object \n",
      " 3   lotfrontage    1201 non-null   float64\n",
      " 4   lotarea        1460 non-null   int64  \n",
      " 5   street         1460 non-null   object \n",
      " 6   alley          91 non-null     object \n",
      " 7   lotshape       1460 non-null   object \n",
      " 8   landcontour    1460 non-null   object \n",
      " 9   utilities      1460 non-null   object \n",
      " 10  lotconfig      1460 non-null   object \n",
      " 11  landslope      1460 non-null   object \n",
      " 12  neighborhood   1460 non-null   object \n",
      " 13  condition1     1460 non-null   object \n",
      " 14  condition2     1460 non-null   object \n",
      " 15  bldgtype       1460 non-null   object \n",
      " 16  housestyle     1460 non-null   object \n",
      " 17  overallqual    1460 non-null   int64  \n",
      " 18  overallcond    1460 non-null   int64  \n",
      " 19  yearbuilt      1460 non-null   int64  \n",
      " 20  yearremodadd   1460 non-null   int64  \n",
      " 21  roofstyle      1460 non-null   object \n",
      " 22  roofmatl       1460 non-null   object \n",
      " 23  exterior1st    1460 non-null   object \n",
      " 24  exterior2nd    1460 non-null   object \n",
      " 25  masvnrtype     1452 non-null   object \n",
      " 26  masvnrarea     1452 non-null   float64\n",
      " 27  exterqual      1460 non-null   object \n",
      " 28  extercond      1460 non-null   object \n",
      " 29  foundation     1460 non-null   object \n",
      " 30  bsmtqual       1423 non-null   object \n",
      " 31  bsmtcond       1423 non-null   object \n",
      " 32  bsmtexposure   1422 non-null   object \n",
      " 33  bsmtfintype1   1423 non-null   object \n",
      " 34  bsmtfinsf1     1460 non-null   int64  \n",
      " 35  bsmtfintype2   1422 non-null   object \n",
      " 36  bsmtfinsf2     1460 non-null   int64  \n",
      " 37  bsmtunfsf      1460 non-null   int64  \n",
      " 38  totalbsmtsf    1460 non-null   int64  \n",
      " 39  heating        1460 non-null   object \n",
      " 40  heatingqc      1460 non-null   object \n",
      " 41  centralair     1460 non-null   object \n",
      " 42  electrical     1459 non-null   object \n",
      " 43  1stflrsf       1460 non-null   int64  \n",
      " 44  2ndflrsf       1460 non-null   int64  \n",
      " 45  lowqualfinsf   1460 non-null   int64  \n",
      " 46  grlivarea      1460 non-null   int64  \n",
      " 47  bsmtfullbath   1460 non-null   int64  \n",
      " 48  bsmthalfbath   1460 non-null   int64  \n",
      " 49  fullbath       1460 non-null   int64  \n",
      " 50  halfbath       1460 non-null   int64  \n",
      " 51  bedroomabvgr   1460 non-null   int64  \n",
      " 52  kitchenabvgr   1460 non-null   int64  \n",
      " 53  kitchenqual    1460 non-null   object \n",
      " 54  totrmsabvgrd   1460 non-null   int64  \n",
      " 55  functional     1460 non-null   object \n",
      " 56  fireplaces     1460 non-null   int64  \n",
      " 57  fireplacequ    770 non-null    object \n",
      " 58  garagetype     1379 non-null   object \n",
      " 59  garageyrblt    1379 non-null   float64\n",
      " 60  garagefinish   1379 non-null   object \n",
      " 61  garagecars     1460 non-null   int64  \n",
      " 62  garagearea     1460 non-null   int64  \n",
      " 63  garagequal     1379 non-null   object \n",
      " 64  garagecond     1379 non-null   object \n",
      " 65  paveddrive     1460 non-null   object \n",
      " 66  wooddecksf     1460 non-null   int64  \n",
      " 67  openporchsf    1460 non-null   int64  \n",
      " 68  enclosedporch  1460 non-null   int64  \n",
      " 69  3ssnporch      1460 non-null   int64  \n",
      " 70  screenporch    1460 non-null   int64  \n",
      " 71  poolarea       1460 non-null   int64  \n",
      " 72  poolqc         7 non-null      object \n",
      " 73  fence          281 non-null    object \n",
      " 74  miscfeature    54 non-null     object \n",
      " 75  miscval        1460 non-null   int64  \n",
      " 76  mosold         1460 non-null   int64  \n",
      " 77  yrsold         1460 non-null   int64  \n",
      " 78  saletype       1460 non-null   object \n",
      " 79  salecondition  1460 non-null   object \n",
      " 80  saleprice      1460 non-null   int64  \n",
      "dtypes: float64(3), int64(35), object(43)\n",
      "memory usage: 924.0+ KB\n"
     ]
    }
   ],
   "source": [
    "df= pd.read_csv('train.csv')\n",
    "df.columns = df.columns.str.lower() \n",
    "df.info()"
   ]
  },
  {
   "cell_type": "code",
   "execution_count": 101,
   "metadata": {},
   "outputs": [
    {
     "name": "stdout",
     "output_type": "stream",
     "text": [
      "Observations: 1460\n",
      "Variables: 81\n",
      "cat_cols: 53\n",
      "num_cols: 27\n",
      "cat_but_car: 1\n",
      "num_but_cat: 11\n",
      "Categorical Variables=['mszoning', 'street', 'alley', 'lotshape', 'landcontour', 'utilities', 'lotconfig', 'landslope', 'condition1', 'condition2', 'bldgtype', 'housestyle', 'roofstyle', 'roofmatl', 'exterior1st', 'exterior2nd', 'masvnrtype', 'exterqual', 'extercond', 'foundation', 'bsmtqual', 'bsmtcond', 'bsmtexposure', 'bsmtfintype1', 'bsmtfintype2', 'heating', 'heatingqc', 'centralair', 'electrical', 'kitchenqual', 'functional', 'fireplacequ', 'garagetype', 'garagefinish', 'garagequal', 'garagecond', 'paveddrive', 'poolqc', 'fence', 'miscfeature', 'saletype', 'salecondition', 'overallcond', 'bsmtfullbath', 'bsmthalfbath', 'fullbath', 'halfbath', 'bedroomabvgr', 'kitchenabvgr', 'fireplaces', 'garagecars', 'poolarea', 'yrsold'],\n",
      "Numerical Variables=['id', 'mssubclass', 'lotfrontage', 'lotarea', 'overallqual', 'yearbuilt', 'yearremodadd', 'masvnrarea', 'bsmtfinsf1', 'bsmtfinsf2', 'bsmtunfsf', 'totalbsmtsf', '1stflrsf', '2ndflrsf', 'lowqualfinsf', 'grlivarea', 'totrmsabvgrd', 'garageyrblt', 'garagearea', 'wooddecksf', 'openporchsf', 'enclosedporch', '3ssnporch', 'screenporch', 'miscval', 'mosold', 'saleprice'],\n",
      "Categorical but Cardinal Variables=['neighborhood']\n"
     ]
    }
   ],
   "source": [
    "cat_th=10 \n",
    "car_th=20\n",
    "cat_cols = [col for col in df.columns if df[col].dtypes == \"O\"]\n",
    "num_but_cat = [col for col in df.columns if df[col].nunique() < cat_th and\n",
    "                   df[col].dtypes != \"O\"]\n",
    "cat_but_car = [col for col in df.columns if df[col].nunique() > car_th and\n",
    "                   df[col].dtypes == \"O\"]\n",
    "cat_cols = cat_cols + num_but_cat\n",
    "cat_cols = [col for col in cat_cols if col not in cat_but_car]\n",
    "\n",
    "# num_cols\n",
    "num_cols = [col for col in df.columns if df[col].dtypes != \"O\"]\n",
    "num_cols = [col for col in num_cols if col not in num_but_cat]\n",
    "\n",
    "print(f\"Observations: {df.shape[0]}\")\n",
    "print(f\"Variables: {df.shape[1]}\")\n",
    "print(f'cat_cols: {len(cat_cols)}')\n",
    "print(f'num_cols: {len(num_cols)}')\n",
    "print(f'cat_but_car: {len(cat_but_car)}')\n",
    "print(f'num_but_cat: {len(num_but_cat)}')\n",
    "    \n",
    "print(f\"\"\"Categorical Variables={cat_cols},\\nNumerical Variables={num_cols},\\nCategorical but Cardinal Variables={cat_but_car}\"\"\")"
   ]
  },
  {
   "cell_type": "code",
   "execution_count": 102,
   "metadata": {},
   "outputs": [
    {
     "data": {
      "text/plain": [
       "<function matplotlib.pyplot.show(close=None, block=None)>"
      ]
     },
     "execution_count": 102,
     "metadata": {},
     "output_type": "execute_result"
    },
    {
     "data": {
      "image/png": "[encoded data removed]",
      "text/plain": [
       "<Figure size 1800x1440 with 30 Axes>"
      ]
     },
     "metadata": {
      "needs_background": "light"
     },
     "output_type": "display_data"
    }
   ],
   "source": [
    "df[num_cols].hist(figsize=(25,20))\n",
    "plt.show"
   ]
  },
  {
   "cell_type": "code",
   "execution_count": 103,
   "metadata": {},
   "outputs": [
    {
     "name": "stdout",
     "output_type": "stream",
     "text": [
      "['alley', 'fireplacequ', 'poolqc', 'fence', 'miscfeature']\n"
     ]
    }
   ],
   "source": [
    "most_null = []\n",
    "for i in df.columns:\n",
    "    null = df[df[i].isnull()]\n",
    "    if len(null) > 0.3*len(df.index):\n",
    "        most_null.append(i)\n",
    "print(most_null)"
   ]
  },
  {
   "cell_type": "code",
   "execution_count": 104,
   "metadata": {},
   "outputs": [
    {
     "name": "stdout",
     "output_type": "stream",
     "text": [
      "<class 'pandas.core.frame.DataFrame'>\n",
      "RangeIndex: 1460 entries, 0 to 1459\n",
      "Data columns (total 5 columns):\n",
      " #   Column       Non-Null Count  Dtype \n",
      "---  ------       --------------  ----- \n",
      " 0   alley        1460 non-null   object\n",
      " 1   fireplacequ  1460 non-null   object\n",
      " 2   poolqc       1460 non-null   object\n",
      " 3   fence        1460 non-null   object\n",
      " 4   miscfeature  1460 non-null   object\n",
      "dtypes: object(5)\n",
      "memory usage: 57.2+ KB\n"
     ]
    }
   ],
   "source": [
    "df[most_null] = df[most_null].fillna(\"None\")\n",
    "df[most_null].info()"
   ]
  },
  {
   "cell_type": "code",
   "execution_count": 105,
   "metadata": {},
   "outputs": [],
   "source": [
    "#Replace with none\n",
    "\n",
    "for col in ('garagetype', 'garagefinish', 'garagequal', 'garagecond'):\n",
    "        df[col] = df[col].fillna('None')\n",
    "\n",
    "for col in ('garageyrblt', 'garagearea', 'garagecars'):\n",
    "        df[col]= df[col].fillna(0)\n",
    "for col in ('bsmtfinsf1', 'bsmtfinsf2', 'bsmtunfsf','totalbsmtsf', 'bsmtfullbath', 'bsmthalfbath'):\n",
    "    df[col] = df[col].fillna(0)\n",
    "\n",
    "for col in ('bsmtqual', 'bsmtcond', 'bsmtexposure', 'bsmtfintype1', 'bsmtfintype2'):\n",
    "    df[col] = df[col].fillna('None')\n",
    "\n",
    "\n",
    "\n",
    "#Replace missing data with median or mode\n",
    "\n",
    "df[\"lotfrontage\"] = df.groupby(\"neighborhood\")[\"lotfrontage\"].transform(lambda x: x.fillna(x.median()))\n",
    "\n",
    "df['mszoning'] = df['mszoning'].fillna(df['mszoning'].mode()[0])\n",
    "df['electrical'] = df['electrical'].fillna(df['electrical'].mode()[0])\n",
    "df['kitchenqual'] = df['kitchenqual'].fillna(df['kitchenqual'].mode()[0])\n",
    "df[\"functional\"] = df[\"functional\"].fillna(\"typ\")\n",
    "df[\"masvnrtype\"] = df[\"masvnrtype\"].fillna(df[\"masvnrtype\"].mode()[0])\n",
    "df[\"masvnrarea\"] = df[\"masvnrarea\"].fillna(df[\"masvnrarea\"].mode()[0])\n",
    "\n",
    "\n",
    "#Drop variables\n",
    "df = df.drop(['utilities'], axis=1)"
   ]
  },
  {
   "cell_type": "code",
   "execution_count": 106,
   "metadata": {},
   "outputs": [
    {
     "data": {
      "text/plain": [
       "id               0.0\n",
       "mssubclass       0.0\n",
       "mszoning         0.0\n",
       "lotfrontage      0.0\n",
       "lotarea          0.0\n",
       "                ... \n",
       "mosold           0.0\n",
       "yrsold           0.0\n",
       "saletype         0.0\n",
       "salecondition    0.0\n",
       "saleprice        0.0\n",
       "Length: 80, dtype: float64"
      ]
     },
     "execution_count": 106,
     "metadata": {},
     "output_type": "execute_result"
    }
   ],
   "source": [
    "data_na = (df.isnull().sum() / len(df)) * 100\n",
    "data_na"
   ]
  },
  {
   "cell_type": "code",
   "execution_count": 107,
   "metadata": {},
   "outputs": [],
   "source": [
    "all_data_na = (df.isnull().sum() / len(df)) * 100\n"
   ]
  },
  {
   "cell_type": "code",
   "execution_count": 108,
   "metadata": {},
   "outputs": [
    {
     "name": "stdout",
     "output_type": "stream",
     "text": [
      "Categorical Variables=['mszoning', 'street', 'alley', 'lotshape', 'landcontour', 'utilities', 'lotconfig', 'landslope', 'condition1', 'condition2', 'bldgtype', 'housestyle', 'roofstyle', 'roofmatl', 'exterior1st', 'exterior2nd', 'masvnrtype', 'exterqual', 'extercond', 'foundation', 'bsmtqual', 'bsmtcond', 'bsmtexposure', 'bsmtfintype1', 'bsmtfintype2', 'heating', 'heatingqc', 'centralair', 'electrical', 'kitchenqual', 'functional', 'fireplacequ', 'garagetype', 'garagefinish', 'garagequal', 'garagecond', 'paveddrive', 'poolqc', 'fence', 'miscfeature', 'saletype', 'salecondition', 'overallcond', 'bsmtfullbath', 'bsmthalfbath', 'fullbath', 'halfbath', 'bedroomabvgr', 'kitchenabvgr', 'fireplaces', 'garagecars', 'poolarea', 'yrsold', 'mssubclass', 'overallcond', 'yrsold', 'mosold']\n"
     ]
    }
   ],
   "source": [
    "#MSSubClass=The building class\n",
    "df['mssubclass'] = df['mssubclass'].apply(str)\n",
    "\n",
    "\n",
    "#Changing OverallCond into a categorical variable\n",
    "df['overallcond'] = df['overallcond'].astype(str)\n",
    "\n",
    "\n",
    "#Year and month sold are transformed into categorical features.\n",
    "df['yrsold'] = df['yrsold'].astype(str)\n",
    "df['mosold'] = df['mosold'].astype(str)\n",
    "\n",
    "\n",
    "#update features group\n",
    "update_group = ['mssubclass', 'overallcond', 'yrsold', 'mosold']\n",
    "for i in update_group:\n",
    "    cat_cols.append(i)\n",
    "\n",
    "\n",
    "print(f\"Categorical Variables={cat_cols}\")"
   ]
  },
  {
   "cell_type": "code",
   "execution_count": 109,
   "metadata": {},
   "outputs": [
    {
     "name": "stdout",
     "output_type": "stream",
     "text": [
      "Categorical Variables=['mszoning', 'street', 'alley', 'lotshape', 'landcontour', 'lotconfig', 'landslope', 'condition1', 'condition2', 'bldgtype', 'housestyle', 'roofstyle', 'roofmatl', 'exterior1st', 'exterior2nd', 'masvnrtype', 'exterqual', 'extercond', 'foundation', 'bsmtqual', 'bsmtcond', 'bsmtexposure', 'bsmtfintype1', 'bsmtfintype2', 'heating', 'heatingqc', 'centralair', 'electrical', 'kitchenqual', 'functional', 'fireplacequ', 'garagetype', 'garagefinish', 'garagequal', 'garagecond', 'paveddrive', 'poolqc', 'fence', 'miscfeature', 'saletype', 'salecondition', 'overallcond', 'bsmtfullbath', 'bsmthalfbath', 'fullbath', 'halfbath', 'bedroomabvgr', 'kitchenabvgr', 'fireplaces', 'garagecars', 'poolarea', 'yrsold', 'mssubclass', 'overallcond', 'yrsold', 'mosold']\n"
     ]
    }
   ],
   "source": [
    "cat_cols.remove('utilities')\n",
    "print(f\"Categorical Variables={cat_cols}\")"
   ]
  },
  {
   "cell_type": "code",
   "execution_count": 110,
   "metadata": {},
   "outputs": [
    {
     "name": "stdout",
     "output_type": "stream",
     "text": [
      "All columns=Index(['id', 'mssubclass', 'mszoning', 'lotfrontage', 'lotarea', 'street',\n",
      "       'alley', 'lotshape', 'landcontour', 'lotconfig', 'landslope',\n",
      "       'neighborhood', 'condition1', 'condition2', 'bldgtype', 'housestyle',\n",
      "       'overallqual', 'overallcond', 'yearbuilt', 'yearremodadd', 'roofstyle',\n",
      "       'roofmatl', 'exterior1st', 'exterior2nd', 'masvnrtype', 'masvnrarea',\n",
      "       'exterqual', 'extercond', 'foundation', 'bsmtqual', 'bsmtcond',\n",
      "       'bsmtexposure', 'bsmtfintype1', 'bsmtfinsf1', 'bsmtfintype2',\n",
      "       'bsmtfinsf2', 'bsmtunfsf', 'totalbsmtsf', 'heating', 'heatingqc',\n",
      "       'centralair', 'electrical', '1stflrsf', '2ndflrsf', 'lowqualfinsf',\n",
      "       'grlivarea', 'bsmtfullbath', 'bsmthalfbath', 'fullbath', 'halfbath',\n",
      "       'bedroomabvgr', 'kitchenabvgr', 'kitchenqual', 'totrmsabvgrd',\n",
      "       'functional', 'fireplaces', 'fireplacequ', 'garagetype', 'garageyrblt',\n",
      "       'garagefinish', 'garagecars', 'garagearea', 'garagequal', 'garagecond',\n",
      "       'paveddrive', 'wooddecksf', 'openporchsf', 'enclosedporch', '3ssnporch',\n",
      "       'screenporch', 'poolarea', 'poolqc', 'fence', 'miscfeature', 'miscval',\n",
      "       'mosold', 'yrsold', 'saletype', 'salecondition', 'saleprice',\n",
      "       'price_per_sqft'],\n",
      "      dtype='object')\n"
     ]
    }
   ],
   "source": [
    "sale_price = df['saleprice']\n",
    "area = df['grlivarea']\n",
    "price_per_sqft = sale_price/area\n",
    "\n",
    "df['price_per_sqft'] = price_per_sqft\n",
    "\n",
    "print(f\"All columns={df.columns}\")"
   ]
  },
  {
   "cell_type": "code",
   "execution_count": 111,
   "metadata": {},
   "outputs": [
    {
     "name": "stdout",
     "output_type": "stream",
     "text": [
      "All columns=Index(['mssubclass', 'mszoning', 'lotfrontage', 'lotarea', 'street', 'alley',\n",
      "       'lotshape', 'landcontour', 'lotconfig', 'landslope', 'condition1',\n",
      "       'condition2', 'bldgtype', 'housestyle', 'overallqual', 'overallcond',\n",
      "       'yearbuilt', 'yearremodadd', 'roofstyle', 'roofmatl', 'exterior1st',\n",
      "       'exterior2nd', 'masvnrtype', 'masvnrarea', 'exterqual', 'extercond',\n",
      "       'foundation', 'bsmtqual', 'bsmtcond', 'bsmtexposure', 'bsmtfintype1',\n",
      "       'bsmtfinsf1', 'bsmtfintype2', 'bsmtfinsf2', 'bsmtunfsf', 'totalbsmtsf',\n",
      "       'heating', 'heatingqc', 'centralair', 'electrical', 'lowqualfinsf',\n",
      "       'bsmtfullbath', 'bsmthalfbath', 'fullbath', 'halfbath', 'bedroomabvgr',\n",
      "       'kitchenabvgr', 'kitchenqual', 'totrmsabvgrd', 'functional',\n",
      "       'fireplaces', 'fireplacequ', 'garagetype', 'garageyrblt',\n",
      "       'garagefinish', 'garagecars', 'garagearea', 'garagequal', 'garagecond',\n",
      "       'paveddrive', 'wooddecksf', 'openporchsf', 'enclosedporch', '3ssnporch',\n",
      "       'screenporch', 'poolarea', 'poolqc', 'fence', 'miscfeature', 'miscval',\n",
      "       'mosold', 'yrsold', 'saletype', 'salecondition', 'price_per_sqft'],\n",
      "      dtype='object')\n"
     ]
    }
   ],
   "source": [
    "df_clean = df.drop(['saleprice', '1stflrsf', '2ndflrsf', 'grlivarea', \n",
    "                    'id', 'neighborhood'], axis=1)\n",
    "print(f\"All columns={df_clean.columns}\")"
   ]
  },
  {
   "cell_type": "code",
   "execution_count": 112,
   "metadata": {},
   "outputs": [],
   "source": [
    "def encoder(dataframe, categorical_cols, drop_first=False):\n",
    "    dataframe = pd.get_dummies(dataframe, columns=categorical_cols, drop_first=drop_first)\n",
    "    return dataframe\n",
    "\n",
    "df_clean = encoder(df_clean,cat_cols,drop_first=True)\n"
   ]
  },
  {
   "cell_type": "code",
   "execution_count": 113,
   "metadata": {},
   "outputs": [
    {
     "name": "stdout",
     "output_type": "stream",
     "text": [
      "               count          mean          std     min     25%     50%  \\\n",
      "lotfrontage   1460.0     70.199658    22.431902    21.0    60.0    70.0   \n",
      "lotarea       1460.0  10516.828082  9981.264932  1300.0  7553.5  9478.5   \n",
      "overallqual   1460.0      6.099315     1.382997     1.0     5.0     6.0   \n",
      "yearbuilt     1460.0   1971.267808    30.202904  1872.0  1954.0  1973.0   \n",
      "yearremodadd  1460.0   1984.865753    20.645407  1950.0  1967.0  1994.0   \n",
      "...              ...           ...          ...     ...     ...     ...   \n",
      "mosold_5      1460.0      0.139726     0.346821     0.0     0.0     0.0   \n",
      "mosold_6      1460.0      0.173288     0.378625     0.0     0.0     0.0   \n",
      "mosold_7      1460.0      0.160274     0.366986     0.0     0.0     0.0   \n",
      "mosold_8      1460.0      0.083562     0.276824     0.0     0.0     0.0   \n",
      "mosold_9      1460.0      0.043151     0.203266     0.0     0.0     0.0   \n",
      "\n",
      "                  75%       max  \n",
      "lotfrontage      80.0     313.0  \n",
      "lotarea       11601.5  215245.0  \n",
      "overallqual       7.0      10.0  \n",
      "yearbuilt      2000.0    2010.0  \n",
      "yearremodadd   2004.0    2010.0  \n",
      "...               ...       ...  \n",
      "mosold_5          0.0       1.0  \n",
      "mosold_6          0.0       1.0  \n",
      "mosold_7          0.0       1.0  \n",
      "mosold_8          0.0       1.0  \n",
      "mosold_9          0.0       1.0  \n",
      "\n",
      "[302 rows x 8 columns]\n"
     ]
    }
   ],
   "source": [
    "pd.set_option('display.max_columns',None)\n",
    "print(df_clean.describe().T)"
   ]
  },
  {
   "cell_type": "code",
   "execution_count": 118,
   "metadata": {},
   "outputs": [
    {
     "name": "stdout",
     "output_type": "stream",
     "text": [
      "(1095, 301) (365, 301)\n",
      "(1095,) (365,)\n"
     ]
    }
   ],
   "source": [
    "y = df_clean['price_per_sqft']\n",
    "X = df_clean.drop(['price_per_sqft'], axis=1)\n",
    "\n",
    "X_train, X_test, y_train, y_test = train_test_split(X, y, random_state=42)\n",
    "print(X_train.shape, X_test.shape)\n",
    "print(y_train.shape, y_test.shape)"
   ]
  },
  {
   "cell_type": "code",
   "execution_count": 119,
   "metadata": {},
   "outputs": [
    {
     "data": {
      "text/plain": [
       "False"
      ]
     },
     "execution_count": 119,
     "metadata": {},
     "output_type": "execute_result"
    }
   ],
   "source": [
    "df_clean.isnull().values.any()"
   ]
  },
  {
   "cell_type": "code",
   "execution_count": 120,
   "metadata": {},
   "outputs": [
    {
     "data": {
      "text/html": [
       "<style>#sk-container-id-1 {color: black;background-color: white;}#sk-container-id-1 pre{padding: 0;}#sk-container-id-1 div.sk-toggleable {background-color: white;}#sk-container-id-1 label.sk-toggleable__label {cursor: pointer;display: block;width: 100%;margin-bottom: 0;padding: 0.3em;box-sizing: border-box;text-align: center;}#sk-container-id-1 label.sk-toggleable__label-arrow:before {content: \"▸\";float: left;margin-right: 0.25em;color: #696969;}#sk-container-id-1 label.sk-toggleable__label-arrow:hover:before {color: black;}#sk-container-id-1 div.sk-estimator:hover label.sk-toggleable__label-arrow:before {color: black;}#sk-container-id-1 div.sk-toggleable__content {max-height: 0;max-width: 0;overflow: hidden;text-align: left;background-color: #f0f8ff;}#sk-container-id-1 div.sk-toggleable__content pre {margin: 0.2em;color: black;border-radius: 0.25em;background-color: #f0f8ff;}#sk-container-id-1 input.sk-toggleable__control:checked~div.sk-toggleable__content {max-height: 200px;max-width: 100%;overflow: auto;}#sk-container-id-1 input.sk-toggleable__control:checked~label.sk-toggleable__label-arrow:before {content: \"▾\";}#sk-container-id-1 div.sk-estimator input.sk-toggleable__control:checked~label.sk-toggleable__label {background-color: #d4ebff;}#sk-container-id-1 div.sk-label input.sk-toggleable__control:checked~label.sk-toggleable__label {background-color: #d4ebff;}#sk-container-id-1 input.sk-hidden--visually {border: 0;clip: rect(1px 1px 1px 1px);clip: rect(1px, 1px, 1px, 1px);height: 1px;margin: -1px;overflow: hidden;padding: 0;position: absolute;width: 1px;}#sk-container-id-1 div.sk-estimator {font-family: monospace;background-color: #f0f8ff;border: 1px dotted black;border-radius: 0.25em;box-sizing: border-box;margin-bottom: 0.5em;}#sk-container-id-1 div.sk-estimator:hover {background-color: #d4ebff;}#sk-container-id-1 div.sk-parallel-item::after {content: \"\";width: 100%;border-bottom: 1px solid gray;flex-grow: 1;}#sk-container-id-1 div.sk-label:hover label.sk-toggleable__label {background-color: #d4ebff;}#sk-container-id-1 div.sk-serial::before {content: \"\";position: absolute;border-left: 1px solid gray;box-sizing: border-box;top: 0;bottom: 0;left: 50%;z-index: 0;}#sk-container-id-1 div.sk-serial {display: flex;flex-direction: column;align-items: center;background-color: white;padding-right: 0.2em;padding-left: 0.2em;position: relative;}#sk-container-id-1 div.sk-item {position: relative;z-index: 1;}#sk-container-id-1 div.sk-parallel {display: flex;align-items: stretch;justify-content: center;background-color: white;position: relative;}#sk-container-id-1 div.sk-item::before, #sk-container-id-1 div.sk-parallel-item::before {content: \"\";position: absolute;border-left: 1px solid gray;box-sizing: border-box;top: 0;bottom: 0;left: 50%;z-index: -1;}#sk-container-id-1 div.sk-parallel-item {display: flex;flex-direction: column;z-index: 1;position: relative;background-color: white;}#sk-container-id-1 div.sk-parallel-item:first-child::after {align-self: flex-end;width: 50%;}#sk-container-id-1 div.sk-parallel-item:last-child::after {align-self: flex-start;width: 50%;}#sk-container-id-1 div.sk-parallel-item:only-child::after {width: 0;}#sk-container-id-1 div.sk-dashed-wrapped {border: 1px dashed gray;margin: 0 0.4em 0.5em 0.4em;box-sizing: border-box;padding-bottom: 0.4em;background-color: white;}#sk-container-id-1 div.sk-label label {font-family: monospace;font-weight: bold;display: inline-block;line-height: 1.2em;}#sk-container-id-1 div.sk-label-container {text-align: center;}#sk-container-id-1 div.sk-container {/* jupyter's `normalize.less` sets `[hidden] { display: none; }` but bootstrap.min.css set `[hidden] { display: none !important; }` so we also need the `!important` here to be able to override the default hidden behavior on the sphinx rendered scikit-learn.org. See: https://github.com/scikit-learn/scikit-learn/issues/21755 */display: inline-block !important;position: relative;}#sk-container-id-1 div.sk-text-repr-fallback {display: none;}</style><div id=\"sk-container-id-1\" class=\"sk-top-container\"><div class=\"sk-text-repr-fallback\"><pre>LinearRegression()</pre><b>In a Jupyter environment, please rerun this cell to show the HTML representation or trust the notebook. <br />On GitHub, the HTML representation is unable to render, please try loading this page with nbviewer.org.</b></div><div class=\"sk-container\" hidden><div class=\"sk-item\"><div class=\"sk-estimator sk-toggleable\"><input class=\"sk-toggleable__control sk-hidden--visually\" id=\"sk-estimator-id-1\" type=\"checkbox\" checked><label for=\"sk-estimator-id-1\" class=\"sk-toggleable__label sk-toggleable__label-arrow\">LinearRegression</label><div class=\"sk-toggleable__content\"><pre>LinearRegression()</pre></div></div></div></div></div>"
      ],
      "text/plain": [
       "LinearRegression()"
      ]
     },
     "execution_count": 120,
     "metadata": {},
     "output_type": "execute_result"
    }
   ],
   "source": [
    "regr = LinearRegression() #create a regression object\n",
    "regr.fit(X_train, y_train) #train the model"
   ]
  },
  {
   "cell_type": "code",
   "execution_count": 121,
   "metadata": {},
   "outputs": [
    {
     "name": "stdout",
     "output_type": "stream",
     "text": [
      "Coefficients: \n",
      " [-1.66017757e-02  2.73326448e-04  3.78974151e+00  3.75443239e-01\n",
      "  6.46737504e-02  7.77213176e-03  1.82059982e-03  2.48535191e-03\n",
      " -8.77202210e-03 -4.46606164e-03 -9.13176826e-03 -3.22689894e+00\n",
      "  1.34569343e-02  3.91238407e-03  8.32444235e-03  1.67241207e-03\n",
      " -6.45597481e-04  1.34133932e-02  2.62431768e-02  3.83563281e-03\n",
      "  2.93113365e+01  1.25399146e+01  2.27872319e+01  1.57607082e+01\n",
      "  1.01365998e+01  4.33281436e-02  7.96956843e-01  4.40972289e+00\n",
      "  2.42181106e+00  3.78162723e-01  1.19879883e+01  5.09887675e+00\n",
      "  2.31895485e+00  2.39529885e+00 -4.30695704e+00 -5.07390130e+00\n",
      " -1.62756024e+00 -2.90561277e+00 -2.61390992e+01  6.92884270e+00\n",
      "  1.14194240e+01 -5.42745677e+00  8.36763362e+00 -1.92868849e+00\n",
      "  1.34195174e+01  6.21227149e+00  1.78354964e+01 -1.33370158e+01\n",
      " -8.63301863e-01 -4.56612526e-12 -8.09762568e+01 -1.51419971e+01\n",
      " -8.12728098e+00 -1.73994152e-12 -6.45288973e+00 -5.96438713e+00\n",
      " -1.50910197e-01  1.41190314e+00  1.33194537e+01  6.76404642e+00\n",
      " -9.62575853e+00 -3.04099340e+00  6.79642903e-01  1.82426952e+01\n",
      "  3.77601709e+00 -2.40202832e+01 -2.81529207e+01 -2.63757796e+01\n",
      " -2.06944533e+01 -8.93935263e+00  1.26704581e+01 -3.13526982e-13\n",
      "  5.25386346e+01  1.19780913e+01 -1.19112173e+01  1.68809003e+01\n",
      "  7.68260263e+00 -1.17552943e+01 -2.44519765e+01  8.76632114e+00\n",
      " -5.82062788e+00 -4.01853781e+00  1.48774742e+00  1.53698873e+01\n",
      "  4.30638815e-02  1.67730514e+00 -1.32269696e+01 -7.61057088e+00\n",
      "  2.56706911e+00 -4.77590145e+00 -1.09964777e+00  1.97692012e+00\n",
      "  1.56905526e+01  2.86217969e+00 -5.82062788e+00  9.68346697e+00\n",
      "  2.11685737e+00 -1.14973227e+01  2.08801389e+00  4.81477675e-01\n",
      " -2.34552085e+00  4.42119544e+00  1.06806995e+01 -8.32723217e-01\n",
      "  7.00626313e+00  3.49160259e+00  5.46377823e+00  6.80572285e+00\n",
      "  9.35952738e+00 -8.86884087e-01 -1.17453741e+01 -1.38194640e+01\n",
      " -2.67522417e+01 -2.91161550e+01 -6.06238164e+01 -2.67347770e+01\n",
      " -1.63711665e-01  5.39562390e-01 -2.47059759e+00  9.63972738e-01\n",
      " -2.31218045e+01 -1.72336289e+00 -6.30670969e+00 -5.50880312e+00\n",
      " -5.24812351e+00  6.77344095e+00 -5.50880312e+00 -1.97520798e+01\n",
      "  8.48006489e+00  4.86332646e+00 -2.13535352e+00 -3.09866663e+00\n",
      " -5.50880312e+00 -2.30232583e+00  1.03200809e+00 -3.55142003e+00\n",
      " -5.50880312e+00 -1.26941874e+00  4.58982093e-01 -1.27672277e+01\n",
      " -1.08875361e+01 -9.84554546e+00 -5.50880312e+00 -9.78842912e+00\n",
      " -5.26295958e+00  2.38912186e-01 -4.21784669e-01 -1.78234771e+01\n",
      " -4.37299286e+00  9.79222898e+00 -1.86125871e+00 -2.08522593e+00\n",
      " -4.95607614e+00 -1.18733476e+00 -2.28895019e-01 -2.68617722e+00\n",
      " -1.84758954e+01  3.90798505e-14 -4.77919021e-01 -6.85923515e+00\n",
      " -1.11189328e+01 -9.74788636e+00 -2.40486691e+01 -7.20163421e-01\n",
      " -2.68929747e+00 -5.93272001e+00 -2.07149271e+01  1.02878514e+01\n",
      " -1.69332134e+00  2.97455909e+00  4.63333805e+00  6.27393409e+00\n",
      "  1.46264066e+00  1.11866120e+01  5.06922458e+00  6.30140780e+00\n",
      "  1.70639973e+01  1.37629237e+01  1.25685893e+00  1.25685893e+00\n",
      "  4.24490737e-01  9.35291368e-01 -4.59806179e+01 -4.17496874e+01\n",
      "  1.25685893e+00 -4.70462340e+01 -4.25927358e+01  1.49578217e+01\n",
      "  1.67010227e+01  1.25685893e+00  3.20886471e+01  1.77447663e+01\n",
      " -6.16918474e+00 -2.46966075e+00  3.72091117e+00 -4.08564325e+01\n",
      " -6.37262935e-02 -3.68530690e+00  3.23327512e+00  3.92947444e+00\n",
      "  1.81395572e+00  1.21578845e+01 -3.10900503e+00  7.48365918e+00\n",
      " -1.39054149e+00  1.40384008e+01  1.12621652e+01  4.72081326e+00\n",
      "  7.77760096e+00 -8.40786289e-01  3.93218176e+00 -1.52656086e+00\n",
      "  3.70675186e+00  2.03390809e+01  5.28283820e+00  2.04827529e+00\n",
      "  5.66647159e+00  1.32098342e+01  8.92733534e+00 -3.27102837e+00\n",
      " -1.81149993e+00 -5.63560364e-01  1.82876153e+00  3.54299776e+00\n",
      "  6.08063129e+00  5.01844259e+00  2.73400729e+00  1.55275405e+01\n",
      "  3.67344551e+01  1.14931678e+00 -2.76512185e-01 -1.03402521e+01\n",
      " -1.41755604e+01 -1.59477323e+01 -3.27790813e+00 -1.37134040e+01\n",
      "  1.91920024e+00  4.58338172e+00  8.91918711e-01  6.93111911e-01\n",
      "  1.29079326e-01  4.68591687e+00  3.62937214e+01  9.07313886e+00\n",
      "  7.60790679e+00 -1.64045335e+01  2.21523901e+00  2.63604334e+00\n",
      " -9.48462040e+00 -3.50837900e+00 -3.46247932e+00  4.56114707e+00\n",
      "  1.15285232e+00 -8.98394696e+01 -6.67299035e+00 -1.39054149e+00\n",
      "  4.38722380e+01  3.55271368e-15  5.11145267e+00  4.89830371e+01\n",
      "  1.15993343e+00  1.26912934e+00 -3.15591838e-02  1.13342990e+00\n",
      " -2.45653844e+01 -1.75646094e+01  1.80530849e+00  3.99332054e+00\n",
      "  8.05830105e+00 -4.56622497e+00  8.27406188e+00 -2.52588760e+00\n",
      " -1.07272868e+01  2.42005008e+00  6.43922454e+00 -2.78247437e+00\n",
      " -5.68499869e+00 -5.96438713e+00  8.92733534e+00 -3.27102837e+00\n",
      " -1.81149993e+00 -5.63560364e-01  1.82876153e+00  3.54299776e+00\n",
      "  6.08063129e+00  5.01844259e+00  1.15993343e+00  1.26912934e+00\n",
      " -3.15591838e-02  1.13342990e+00 -3.85007358e+00 -9.93864009e-02\n",
      " -8.10031698e-01 -2.42275391e+00 -4.12129494e-01  2.45835701e-01\n",
      "  2.07779307e+00  3.75736735e-01  6.57207387e-01 -6.22482378e-01\n",
      " -4.33076764e-01]\n",
      "Mean squared error: 274.21\n",
      "Coefficient of determination: 0.73\n"
     ]
    }
   ],
   "source": [
    "from sklearn.metrics import mean_squared_error, r2_score\n",
    "houseprice_y_pred = regr.predict(X_test) #make prediction\n",
    "# The coefficients\n",
    "print(\"Coefficients: \\n\", regr.coef_)\n",
    "# The mean squared error\n",
    "print(\"Mean squared error: %.2f\" % mean_squared_error(y_test, houseprice_y_pred))\n",
    "# The coefficient of determination: 1 is perfect prediction\n",
    "print(\"Coefficient of determination: %.2f\" % r2_score(y_test, houseprice_y_pred))"
   ]
  },
  {
   "cell_type": "code",
   "execution_count": 124,
   "metadata": {},
   "outputs": [
    {
     "name": "stdout",
     "output_type": "stream",
     "text": [
      "RMSE: 18.9323 (LR) \n",
      "RMSE: 17.1406 (Ridge) \n",
      "RMSE: 19.6953 (Lasso) \n",
      "RMSE: 20.1591 (ElasticNet) \n",
      "RMSE: 27.1566 (KNN) \n",
      "RMSE: 24.5071 (CART) \n",
      "RMSE: 17.609 (RF) \n",
      "RMSE: 30.75 (SVR) \n",
      "RMSE: 17.4804 (GBM) \n"
     ]
    }
   ],
   "source": [
    "#create models\n",
    "\n",
    "models = [('LR', LinearRegression()),\n",
    "          (\"Ridge\", Ridge()),\n",
    "          (\"Lasso\", Lasso()),\n",
    "          (\"ElasticNet\", ElasticNet()),\n",
    "          ('KNN', KNeighborsRegressor()),\n",
    "          ('CART', DecisionTreeRegressor()),\n",
    "          ('RF', RandomForestRegressor()),\n",
    "          ('SVR', SVR()),\n",
    "          ('GBM', GradientBoostingRegressor())]\n",
    "          #(\"LightGBM\", LGBMRegressor())]\n",
    "\n",
    "for name, regressor in models:\n",
    "    rmse = np.mean(np.sqrt(-cross_val_score(regressor, X_train, y_train, cv=5, scoring=\"neg_mean_squared_error\")))\n",
    "    print(f\"RMSE: {round(rmse, 4)} ({name}) \")"
   ]
  }
 ],
 "metadata": {
  "kernelspec": {
   "display_name": "Python 3.10.4 64-bit",
   "language": "python",
   "name": "python3"
  },
  "language_info": {
   "codemirror_mode": {
    "name": "ipython",
    "version": 3
   },
   "file_extension": ".py",
   "mimetype": "text/x-python",
   "name": "python",
   "nbconvert_exporter": "python",
   "pygments_lexer": "ipython3",
   "version": "3.10.4"
  },
  "orig_nbformat": 4,
  "vscode": {
   "interpreter": {
    "hash": "26de051ba29f2982a8de78e945f0abaf191376122a1563185a90213a26c5da77"
   }
  }
 },
 "nbformat": 4,
 "nbformat_minor": 2
}
